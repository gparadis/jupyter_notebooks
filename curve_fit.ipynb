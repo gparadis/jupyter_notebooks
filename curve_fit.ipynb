{
 "metadata": {
  "name": "curve_fit"
 },
 "nbformat": 3,
 "nbformat_minor": 0,
 "worksheets": [
  {
   "cells": [
    {
     "cell_type": "markdown",
     "metadata": {},
     "source": [
      "Investigating `scipy.optimize.curve_fit` covariance output\n",
      "-----------------------------------------------------------\n",
      "\n",
      "In Aug 2011 there was a thread [Unexpected covariance matrix from scipy.optimize.curve_fit](http://mail.scipy.org/pipermail/scipy-user/2011-August/030412.html) where Christoph Deil reported that \"scipy.optimize.curve_fit returns parameter errors that don't scale with sigma, the standard deviation of ydata, as I expected.\"  Today I independently came to the same conclusion.\n",
      "\n",
      "This thread generated some discussion but seemingly no agreement that the covariance output of `curve_fit` is not what would be expected.  I think the discussion wasn't as focused as possible because the example was too complicated.  With that I provide here about the simplest possible example, which is fitting a constant to a constant dataset, aka computing the mean and error on the mean.  Since we know the answers we can compare the output of `curve_fit`."
     ]
    },
    {
     "cell_type": "code",
     "collapsed": false,
     "input": [
      "import numpy as np\n",
      "from scipy.optimize import curve_fit"
     ],
     "language": "python",
     "metadata": {},
     "outputs": [],
     "prompt_number": 1
    },
    {
     "cell_type": "markdown",
     "metadata": {},
     "source": [
      "### Generate a normally distributed dataset of 100 points with $\\mu = 0.0$ and $\\sigma_y = 1.0$"
     ]
    },
    {
     "cell_type": "code",
     "collapsed": false,
     "input": [
      "x = np.arange(100, dtype=np.float)\n",
      "y = np.zeros_like(x)\n",
      "yn = y + np.random.normal(size=len(y))\n"
     ],
     "language": "python",
     "metadata": {},
     "outputs": [],
     "prompt_number": 2
    },
    {
     "cell_type": "markdown",
     "metadata": {},
     "source": [
      "### Define a constant function"
     ]
    },
    {
     "cell_type": "code",
     "collapsed": false,
     "input": [
      "def const(x, a):\n",
      "    return a * np.ones_like(x)"
     ],
     "language": "python",
     "metadata": {},
     "outputs": [],
     "prompt_number": 3
    },
    {
     "cell_type": "markdown",
     "metadata": {},
     "source": [
      "### Fit a constant to a set of normally distributed points\n",
      "\n",
      "This is equivalent to determining the mean and uncertainty on the mean.\n",
      "We know the answer analytically:\n",
      "\n",
      "- $\\mu = 0.0$\n",
      "- $\\sigma_\\mu = \\sigma_y / N^{1/2}$\n",
      "\n",
      "If no `sigma` parameter is provided to `curve_fit` then we get the expected results:"
     ]
    },
    {
     "cell_type": "code",
     "collapsed": false,
     "input": [
      "popt, pcov = curve_fit(const, x, yn)\n",
      "print 'Best fit constant =', popt[0]\n",
      "print 'Uncertainty on constant =', np.sqrt(pcov[0, 0])\n",
      "plot(x, yn, '.')\n",
      "plot(x, const(x, popt[0]))\n",
      "grid()"
     ],
     "language": "python",
     "metadata": {},
     "outputs": [
      {
       "output_type": "stream",
       "stream": "stdout",
       "text": [
        "Best fit constant = -0.114460255805\n",
        "Uncertainty on constant = 0.0990467843199\n"
       ]
      },
      {
       "output_type": "display_data",
       "png": "[encoded data removed]"
      }
     ],
     "prompt_number": 15
    },
    {
     "cell_type": "markdown",
     "metadata": {},
     "source": [
      "But now setting `sigma=100` doesn't change the output covariance at all:"
     ]
    },
    {
     "cell_type": "code",
     "collapsed": false,
     "input": [
      "sigma = 100\n",
      "popt, pcov = curve_fit(const, x, yn, sigma=sigma)\n",
      "print 'Best fit constant =', popt[0]\n",
      "print 'Uncertainty on constant =', np.sqrt(pcov[0, 0])"
     ],
     "language": "python",
     "metadata": {},
     "outputs": [
      {
       "output_type": "stream",
       "stream": "stdout",
       "text": [
        "Best fit constant = -0.114460248457\n",
        "Uncertainty on constant = 0.099046785584\n"
       ]
      }
     ],
     "prompt_number": 22
    },
    {
     "cell_type": "markdown",
     "metadata": {},
     "source": [
      "### Try to fix the covariance matrix using the method suggested by @cdeil.\n",
      "\n",
      "This doesn't give the result I expect."
     ]
    },
    {
     "cell_type": "code",
     "collapsed": false,
     "input": [
      "chi = (y - const(x, *popt)) / sigma\n",
      "chi2 = (chi ** 2).sum()\n",
      "dof = len(x) - len(popt)\n",
      "factor = (chi2 / dof)\n",
      "pcov_sigma = pcov / factor\n",
      "print chi2\n",
      "print dof\n",
      "print factor\n",
      "print np.sqrt(pcov_sigma[0, 0])"
     ],
     "language": "python",
     "metadata": {},
     "outputs": [
      {
       "output_type": "stream",
       "stream": "stdout",
       "text": [
        "0.000131011484769\n",
        "99\n",
        "1.323348331e-06\n",
        "86.100029198\n"
       ]
      }
     ],
     "prompt_number": 24
    },
    {
     "cell_type": "markdown",
     "metadata": {},
     "source": [
      "### Use Sherpa to do the fit and compute covariance\n",
      "\n",
      "[Sherpa](http://cxc.harvard.edu/sherpa/) is a modeling and fitting package used in astronomy.  There is a relatively steep learning curve and installation isn't so easy, but the optimization methods are robust."
     ]
    },
    {
     "cell_type": "code",
     "collapsed": false,
     "input": [
      "import sherpa.ui as ui  # sherpa user interface"
     ],
     "language": "python",
     "metadata": {},
     "outputs": [],
     "prompt_number": 6
    },
    {
     "cell_type": "markdown",
     "metadata": {},
     "source": [
      "**Load dataset 1 with the same `x` and `yn` dataset, with `sigma=100`**"
     ]
    },
    {
     "cell_type": "code",
     "collapsed": false,
     "input": [
      "ui.load_arrays(1, x, yn, 100.0 * np.ones_like(yn))"
     ],
     "language": "python",
     "metadata": {},
     "outputs": [],
     "prompt_number": 7
    },
    {
     "cell_type": "markdown",
     "metadata": {},
     "source": [
      "**Set the model for dataset 1 to a constant model named `c1`**"
     ]
    },
    {
     "cell_type": "code",
     "collapsed": false,
     "input": [
      "ui.set_model(1, ui.const1d.c1)\n",
      "c1.c0.min = -100  # set the parameter bounds to -100 to +100\n",
      "c1.c0.max = 100"
     ],
     "language": "python",
     "metadata": {},
     "outputs": [],
     "prompt_number": 8
    },
    {
     "cell_type": "markdown",
     "metadata": {},
     "source": [
      "**Fit the dataset using Levenberg-Marquart minimization and $\\chi^2$ statistics**\n",
      "\n",
      "The answer is exactly the same as `curve_fit`."
     ]
    },
    {
     "cell_type": "code",
     "collapsed": false,
     "input": [
      "ui.fit()"
     ],
     "language": "python",
     "metadata": {},
     "outputs": [
      {
       "output_type": "stream",
       "stream": "stdout",
       "text": [
        "Dataset               = 1\n",
        "Method                = levmar\n",
        "Statistic             = chi2gehrels\n",
        "Initial fit statistic = 0.0221324\n",
        "Final fit statistic   = 0.00971216 at function evaluation 4\n",
        "Data points           = 100\n",
        "Degrees of freedom    = 99\n",
        "Probability [Q-value] = 1\n",
        "Reduced statistic     = 9.81027e-05\n",
        "Change in statistic   = 0.0124202\n",
        "   c1.c0          -0.11446    \n"
       ]
      }
     ],
     "prompt_number": 9
    },
    {
     "cell_type": "code",
     "collapsed": false,
     "input": [
      "ui.plot_fit()  # this shows the large error bars"
     ],
     "language": "python",
     "metadata": {},
     "outputs": [
      {
       "output_type": "display_data",
       "png": "[encoded data removed]"
      }
     ],
     "prompt_number": 10
    },
    {
     "cell_type": "markdown",
     "metadata": {},
     "source": [
      "**Compute the covariance**\n",
      "\n",
      "The diagonal element of the covariance is automatically converted to an effective $1-\\sigma$ confidence interval on the fitted parameter.  In this case, we used $\\sigma_y=100$, so the answer of $\\sigma_\\mu = \\sigma_y / N^{1/2} = 100 / 100^{1/2} = 10$ is correct."
     ]
    },
    {
     "cell_type": "code",
     "collapsed": false,
     "input": [
      "ui.covar()"
     ],
     "language": "python",
     "metadata": {},
     "outputs": [
      {
       "output_type": "stream",
       "stream": "stdout",
       "text": [
        "Dataset               = 1\n",
        "Confidence Method     = covariance\n",
        "Iterative Fit Method  = None\n",
        "Fitting Method        = levmar\n",
        "Statistic             = chi2gehrels\n",
        "covariance 1-sigma (68.2689%) bounds:\n",
        "   Param            Best-Fit  Lower Bound  Upper Bound\n",
        "   -----            --------  -----------  -----------\n",
        "   c1.c0            -0.11446          -10           10\n"
       ]
      }
     ],
     "prompt_number": 11
    }
   ],
   "metadata": {}
  }
 ]
}